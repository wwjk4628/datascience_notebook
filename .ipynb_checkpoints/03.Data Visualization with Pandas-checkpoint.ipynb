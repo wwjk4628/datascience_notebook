{
 "cells": [
  {
   "cell_type": "code",
   "execution_count": null,
   "id": "d0b1ec3c",
   "metadata": {},
   "outputs": [],
   "source": []
  },
  {
   "cell_type": "code",
   "execution_count": null,
   "id": "a57597fa",
   "metadata": {},
   "outputs": [],
   "source": []
  },
  {
   "cell_type": "code",
   "execution_count": null,
   "id": "a6ba67a5",
   "metadata": {},
   "outputs": [],
   "source": [
    "# 데이터셋 구분자 확인\n",
    "anscombe['dataset'].unique()"
   ]
  },
  {
   "cell_type": "code",
   "execution_count": null,
   "id": "035ba270",
   "metadata": {},
   "outputs": [],
   "source": [
    "# 데이터셋의 개수 확인\n",
    "anscombe['dataset'].nunique()"
   ]
  },
  {
   "cell_type": "code",
   "execution_count": null,
   "id": "b2877e70",
   "metadata": {},
   "outputs": [],
   "source": [
    "anscombe['dataset'] == 'I'"
   ]
  },
  {
   "cell_type": "code",
   "execution_count": 3,
   "id": "01f48d80",
   "metadata": {},
   "outputs": [
    {
     "ename": "NameError",
     "evalue": "name 'anscombe' is not defined",
     "output_type": "error",
     "traceback": [
      "\u001b[1;31m---------------------------------------------------------------------------\u001b[0m",
      "\u001b[1;31mNameError\u001b[0m                                 Traceback (most recent call last)",
      "Cell \u001b[1;32mIn[3], line 3\u001b[0m\n\u001b[0;32m      1\u001b[0m \u001b[38;5;66;03m# 하위 데이터셋 구분\u001b[39;00m\n\u001b[0;32m      2\u001b[0m \u001b[38;5;66;03m# anscombe['datset'] == 'I'\u001b[39;00m\n\u001b[1;32m----> 3\u001b[0m ds_1 \u001b[38;5;241m=\u001b[39m \u001b[43manscombe\u001b[49m[anscombe[\u001b[38;5;124m'\u001b[39m\u001b[38;5;124mdataset\u001b[39m\u001b[38;5;124m'\u001b[39m] \u001b[38;5;241m==\u001b[39m \u001b[38;5;124m'\u001b[39m\u001b[38;5;124mI\u001b[39m\u001b[38;5;124m'\u001b[39m]\n\u001b[0;32m      4\u001b[0m ds_2 \u001b[38;5;241m=\u001b[39m anscombe[anscombe[\u001b[38;5;124m'\u001b[39m\u001b[38;5;124mdataset\u001b[39m\u001b[38;5;124m'\u001b[39m] \u001b[38;5;241m==\u001b[39m \u001b[38;5;124m'\u001b[39m\u001b[38;5;124mII\u001b[39m\u001b[38;5;124m'\u001b[39m]\n\u001b[0;32m      5\u001b[0m ds_3 \u001b[38;5;241m=\u001b[39m anscombe[anscombe[\u001b[38;5;124m'\u001b[39m\u001b[38;5;124mdataset\u001b[39m\u001b[38;5;124m'\u001b[39m] \u001b[38;5;241m==\u001b[39m \u001b[38;5;124m'\u001b[39m\u001b[38;5;124mIII\u001b[39m\u001b[38;5;124m'\u001b[39m]\n",
      "\u001b[1;31mNameError\u001b[0m: name 'anscombe' is not defined"
     ]
    }
   ],
   "source": [
    "# 하위 데이터셋 구분\n",
    "# anscombe['datset'] == 'I'\n",
    "ds_1 = anscombe[anscombe['dataset'] == 'I']\n",
    "ds_2 = anscombe[anscombe['dataset'] == 'II']\n",
    "ds_3 = anscombe[anscombe['dataset'] == 'III']"
   ]
  },
  {
   "cell_type": "code",
   "execution_count": null,
   "id": "79f05178",
   "metadata": {},
   "outputs": [],
   "source": []
  }
 ],
 "metadata": {
  "kernelspec": {
   "display_name": "Python 3 (ipykernel)",
   "language": "python",
   "name": "python3"
  },
  "language_info": {
   "codemirror_mode": {
    "name": "ipython",
    "version": 3
   },
   "file_extension": ".py",
   "mimetype": "text/x-python",
   "name": "python",
   "nbconvert_exporter": "python",
   "pygments_lexer": "ipython3",
   "version": "3.10.9"
  }
 },
 "nbformat": 4,
 "nbformat_minor": 5
}
