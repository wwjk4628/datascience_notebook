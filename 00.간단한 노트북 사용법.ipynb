{
 "cells": [
  {
   "cell_type": "markdown",
   "id": "e57ba498",
   "metadata": {},
   "source": [
    "# Heading 1\n",
    "## Heading 2\n",
    "### heading 3"
   ]
  },
  {
   "cell_type": "markdown",
   "id": "475ef460",
   "metadata": {},
   "source": [
    "- level 1\n",
    "    - level 2\n",
    "    - level 2\n",
    "- level 1"
   ]
  },
  {
   "cell_type": "markdown",
   "id": "a5d156d7",
   "metadata": {},
   "source": [
    "*단어*\n",
    "\n",
    "-취소선-"
   ]
  },
  {
   "cell_type": "markdown",
   "id": "94a95221",
   "metadata": {},
   "source": [
    "### 테이블\n",
    "| 컬럼1 | 컬럼 2 | 컬럼 3 |\n",
    "|------:|-------:|-------:|\n",
    "| 1234  |  1234  | 1234   |"
   ]
  },
  {
   "attachments": {
    "image.png": {
     "image/png": "[encoded data removed]"
    }
   },
   "cell_type": "markdown",
   "id": "fe40d74f",
   "metadata": {},
   "source": [
    "![image.png](attachment:image.png)"
   ]
  },
  {
   "cell_type": "code",
   "execution_count": 1,
   "id": "16b59bf7",
   "metadata": {},
   "outputs": [],
   "source": [
    "    a =  10 + 20"
   ]
  },
  {
   "cell_type": "code",
   "execution_count": 2,
   "id": "c63ab1a0",
   "metadata": {
    "scrolled": false
   },
   "outputs": [
    {
     "data": {
      "text/plain": [
       "30"
      ]
     },
     "execution_count": 2,
     "metadata": {},
     "output_type": "execute_result"
    }
   ],
   "source": [
    "a"
   ]
  },
  {
   "cell_type": "markdown",
   "id": "ea44f47f",
   "metadata": {},
   "source": [
    "만약에 노트북의 셀을 처음부터 순서대로 실행 순서를 맞춰야 할 경우\n",
    "Kerner > Restart & Run All 메뉴로 전체 실행 순서를 맞춰주는 것을 추천"
   ]
  },
  {
   "cell_type": "code",
   "execution_count": null,
   "id": "2bec8fb1",
   "metadata": {},
   "outputs": [],
   "source": []
  },
  {
   "cell_type": "code",
   "execution_count": null,
   "id": "b42839bf",
   "metadata": {},
   "outputs": [],
   "source": []
  }
 ],
 "metadata": {
  "kernelspec": {
   "display_name": "Python 3 (ipykernel)",
   "language": "python",
   "name": "python3"
  },
  "language_info": {
   "codemirror_mode": {
    "name": "ipython",
    "version": 3
   },
   "file_extension": ".py",
   "mimetype": "text/x-python",
   "name": "python",
   "nbconvert_exporter": "python",
   "pygments_lexer": "ipython3",
   "version": "3.10.9"
  }
 },
 "nbformat": 4,
 "nbformat_minor": 5
}
