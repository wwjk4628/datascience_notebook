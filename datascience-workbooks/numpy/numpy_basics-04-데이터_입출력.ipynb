{
 "cells": [
  {
   "cell_type": "markdown",
   "id": "3737d78451c37260",
   "metadata": {},
   "source": [
    "# Numpy\n",
    "-----\n",
    "## 03. 배열 연산과 함수\n",
    "### 텍스트 파일 다루기\n",
    "- savetxt : 배열을 텍스트 파일로 저장\n",
    "- loadtxt : 텍스트 파일을 배열로 불러오기"
   ]
  },
  {
   "cell_type": "code",
   "execution_count": 2,
   "id": "9176b8ca3b49b362",
   "metadata": {
    "ExecuteTime": {
     "end_time": "2024-01-29T07:40:50.954990300Z",
     "start_time": "2024-01-29T07:40:50.735705Z"
    }
   },
   "outputs": [
    {
     "name": "stdout",
     "output_type": "stream",
     "text": [
      "[[0.06012044 0.43990368 0.67967888]\n",
      " [0.91258305 0.17890126 0.52437289]\n",
      " [0.82297339 0.75831521 0.61509718]\n",
      " [0.47684917 0.85149964 0.6094466 ]\n",
      " [0.5423006  0.16215351 0.20130069]]\n",
      "[[0.06012044 0.43990368 0.67967888]\n",
      " [0.91258305 0.17890126 0.52437289]\n",
      " [0.82297339 0.75831521 0.61509718]\n",
      " [0.47684917 0.85149964 0.6094466 ]\n",
      " [0.5423006  0.16215351 0.20130069]]\n"
     ]
    }
   ],
   "source": [
    "import numpy as np\n",
    "\n",
    "data = np.random.rand(5, 3)\n",
    "print(data)\n",
    "\n",
    "# 텍스트  파일로 저장 \n",
    "# np.savetxt('data.txt', data)    # 공백으로 구분\n",
    "np.savetxt('data.txt', data, delimiter=\",\")    # ,로 구분(CSV)\n",
    "# 텍스트 파일을 배열로 불러오기\n",
    "# load_data = np.loadtxt('data.txt')\n",
    "load_data = np.loadtxt('data.txt', delimiter=\",\")\n",
    "print(load_data)"
   ]
  },
  {
   "cell_type": "markdown",
   "id": "767ada7921f26a66",
   "metadata": {},
   "source": [
    "### 바이너리 파일 다루기\n",
    "- save : 배열을 바이너리 파일로 저장\n",
    "    - 넘파이 배열의 확장자는 .npy\n",
    "- load : 바이너리 파일을 배열로 불러오기\n",
    "\n",
    "※ 바이너리 형식으로 데이터를 저장하고 불러오면 데이터 손실 없이 빠르게 처리할 수 있으므로, 크기가 크고 복잡한 데이터를 다룰 때 특히 유용"
   ]
  },
  {
   "cell_type": "code",
   "execution_count": 4,
   "id": "db423dbf183e6683",
   "metadata": {
    "ExecuteTime": {
     "end_time": "2024-01-29T07:44:29.412192Z",
     "start_time": "2024-01-29T07:44:29.378937500Z"
    }
   },
   "outputs": [
    {
     "name": "stdout",
     "output_type": "stream",
     "text": [
      "data :\n",
      " [[0.79317409 0.42566764 0.47612377]\n",
      " [0.61480447 0.83905847 0.93153507]\n",
      " [0.78807868 0.1112432  0.60603854]\n",
      " [0.04851103 0.28883255 0.25997041]\n",
      " [0.50656938 0.71186769 0.92648998]]\n",
      "load_data :\n",
      " [[0.79317409 0.42566764 0.47612377]\n",
      " [0.61480447 0.83905847 0.93153507]\n",
      " [0.78807868 0.1112432  0.60603854]\n",
      " [0.04851103 0.28883255 0.25997041]\n",
      " [0.50656938 0.71186769 0.92648998]]\n"
     ]
    }
   ],
   "source": [
    "import numpy as np\n",
    "import os\n",
    "# 가상의 데이터 생성\n",
    "data = np.random.rand(5, 3)\n",
    "print(\"data :\\n\", data)\n",
    "# 데이터를 바이너리 형식으로 저장\n",
    "if not os.path.exists('./generated'):\n",
    "    os.makedirs('./generated')\n",
    "np.save('./generated/data', data)\n",
    "\n",
    "load_data = np.load('./generated/data.npy')\n",
    "print(\"load_data :\\n\", load_data)"
   ]
  },
  {
   "cell_type": "code",
   "execution_count": 2,
   "id": "57c8a0364dafe44b",
   "metadata": {
    "ExecuteTime": {
     "end_time": "2024-01-29T07:40:51.017544900Z",
     "start_time": "2024-01-29T07:40:50.976937Z"
    }
   },
   "outputs": [],
   "source": []
  }
 ],
 "metadata": {
  "kernelspec": {
   "display_name": "Python 3 (ipykernel)",
   "language": "python",
   "name": "python3"
  },
  "language_info": {
   "codemirror_mode": {
    "name": "ipython",
    "version": 3
   },
   "file_extension": ".py",
   "mimetype": "text/x-python",
   "name": "python",
   "nbconvert_exporter": "python",
   "pygments_lexer": "ipython3",
   "version": "3.10.9"
  }
 },
 "nbformat": 4,
 "nbformat_minor": 5
}
