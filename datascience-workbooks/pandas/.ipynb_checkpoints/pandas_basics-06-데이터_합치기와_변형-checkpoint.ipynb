{
 "cells": [
  {
   "cell_type": "markdown",
   "id": "f331c322e0067eef",
   "metadata": {},
   "source": [
    "# Pandas\n",
    "-----\n",
    "## 06. 데이터 합치기와 변형\n",
    "### 데이터프레임 합치기 (Dataframe Merging)\n",
    "- Concatenation (연결) : concat\n",
    "- Merge (병합) : merge\n",
    "- Join (조인) : join\n",
    "\n",
    "### concat"
   ]
  },
  {
   "cell_type": "code",
   "execution_count": null,
   "id": "626ff221cb7db18a",
   "metadata": {
    "ExecuteTime": {
     "end_time": "2023-08-02T06:59:09.045531700Z",
     "start_time": "2023-08-02T06:59:09.011935800Z"
    }
   },
   "outputs": [],
   "source": [
    "# 제공된 코드\n",
    "from IPython.display import display\n",
    "import pandas as pd\n",
    "\n",
    "data1 = {'ID': [1, 2, 3, 4],\n",
    "         'Name': ['Alice', 'Bob', 'Charlie', 'David'],\n",
    "         'Age': [25, 30, 22, 28]}\n",
    "df1 = pd.DataFrame(data1)\n",
    "\n",
    "data2 = {'ID': [3, 4, 5, 6],\n",
    "         'Salary': [50000, 60000, 70000, 80000]}\n",
    "df2 = pd.DataFrame(data2)\n",
    "\n",
    "display(\"df1\", df1)\n",
    "display(\"df2\", df2)\n",
    "# /제공된 코드\n",
    "\n",
    "display(\"행방향 연결\", pd.concat([df1, df2]))\n",
    "display(\"열방향 연결\", pd.concat([df1, df2], axis=1))"
   ]
  },
  {
   "cell_type": "markdown",
   "id": "bfb45b3f88a52e5b",
   "metadata": {},
   "source": [
    "### merge\n",
    "- 두 데이터프레임 사이에 공통된 컬럼이나 인덱스를 기준으로 데이터를 합치는 작업을 수행\n",
    "    - on 매개변수로 기준 컬럼 지정\n",
    "- SQL의 Join과 비슷한 개념"
   ]
  },
  {
   "cell_type": "code",
   "execution_count": null,
   "id": "fd0bf9955c7bd428",
   "metadata": {
    "ExecuteTime": {
     "end_time": "2023-08-02T07:00:22.324494Z",
     "start_time": "2023-08-02T07:00:22.309512800Z"
    }
   },
   "outputs": [],
   "source": [
    "display(\"df1\", df1)\n",
    "display(\"df2\", df2)\n",
    "\n",
    "display(pd.merge(df1, df2, on='ID'))"
   ]
  },
  {
   "cell_type": "markdown",
   "id": "680bbeb62ccbc59d",
   "metadata": {},
   "source": [
    "### join\n",
    "- 인덱스를 기준으로 두 개의 데이터프레임을 조인\n",
    "- how:\n",
    "    - left, right, inner, outer 조인 등 다양한 방법을 지원\n",
    "    - 기본 방식은 left"
   ]
  },
  {
   "cell_type": "code",
   "execution_count": null,
   "id": "b0c4480afa39c6ff",
   "metadata": {
    "ExecuteTime": {
     "end_time": "2023-08-02T07:10:38.624496400Z",
     "start_time": "2023-08-02T07:10:38.605236100Z"
    }
   },
   "outputs": [],
   "source": [
    "display(\"df1\", df1)\n",
    "display(\"df2\", df2)\n",
    "\n",
    "display(\"left\", df1.join(df2, lsuffix=\"_df1\", rsuffix=\"_df2\"))\n",
    "display(\"left\", df1.join(df2.set_index(\"ID\"), on=\"ID\", how=\"left\"))\n"
   ]
  },
  {
   "cell_type": "code",
   "execution_count": null,
   "id": "ab07941affe9d2e5",
   "metadata": {
    "ExecuteTime": {
     "end_time": "2023-08-02T07:12:34.250950200Z",
     "start_time": "2023-08-02T07:12:34.235947700Z"
    }
   },
   "outputs": [],
   "source": [
    "display(\"df1\", df1)\n",
    "display(\"df2\", df2)\n",
    "\n",
    "display(\"right\", df1.join(df2.set_index(\"ID\"), on=\"ID\", how=\"right\"))\n"
   ]
  },
  {
   "cell_type": "code",
   "execution_count": null,
   "id": "95f8c6e6fba4153d",
   "metadata": {
    "ExecuteTime": {
     "end_time": "2023-08-02T07:13:52.364061100Z",
     "start_time": "2023-08-02T07:13:52.337572100Z"
    }
   },
   "outputs": [],
   "source": [
    "display(\"df1\", df1)\n",
    "display(\"df2\", df2)\n",
    "\n",
    "display(\"inner\", df1.join(df2.set_index(\"ID\"), on=\"ID\", how=\"inner\"))"
   ]
  },
  {
   "cell_type": "code",
   "execution_count": null,
   "id": "d78422b5fd4bb129",
   "metadata": {
    "ExecuteTime": {
     "end_time": "2023-08-02T07:14:43.814844700Z",
     "start_time": "2023-08-02T07:14:43.779977400Z"
    }
   },
   "outputs": [],
   "source": [
    "display(\"df1\", df1)\n",
    "display(\"df2\", df2)\n",
    "\n",
    "display(\"outer\", df1.join(df2.set_index(\"ID\"), on=\"ID\", how=\"outer\"))"
   ]
  },
  {
   "cell_type": "markdown",
   "id": "863959058e336ad6",
   "metadata": {},
   "source": [
    "### 데이터 변형 및 조작\n",
    "- 피벗 테이블\n",
    "- Melt\n",
    "- Stack과 Unstack\n",
    "\n",
    "### Melt\n",
    "- 넓은 형식의 데이터프레임을 긴 형식으로 변형하는 방법\n",
    "- melt 함수의 구조\n",
    "    - frame: 변형하고자 하는 데이터프레임\n",
    "    - id_vars: 그대로 유지할 열의 이름(식별자 변수)을 지정\n",
    "    - value_vars: 변형할 열의 이름을 지정\n",
    "    - var_name: value_vars가 이동하는 열의 이름을 지정\n",
    "    - value_name: value_vars가 이동하는 값의 열 이름을 지정    "
   ]
  },
  {
   "cell_type": "code",
   "execution_count": null,
   "id": "10064ec4dcc56119",
   "metadata": {
    "ExecuteTime": {
     "end_time": "2023-08-02T07:36:23.802587700Z",
     "start_time": "2023-08-02T07:36:23.761311400Z"
    }
   },
   "outputs": [],
   "source": [
    "# 제공된 코드\n",
    "from IPython.display import display\n",
    "import pandas as pd\n",
    "\n",
    "data = {'ID': [1, 2, 3],\n",
    "        'Name': ['Alice', 'Bob', 'Charlie'],\n",
    "        'Eng': [85, 90, 87],\n",
    "        'Math': [90, 85, 78],\n",
    "        'Science': [88, 92, 80]}\n",
    "df = pd.DataFrame(data)\n",
    "display(df)\n",
    "# /제공된 코드\n",
    "\n",
    "# Eng, Math, Science 열을 긴 형식으로 변환 (melt)\n",
    "melted_df = pd.melt(df, # 변형할 데이터프레임\n",
    "                    id_vars=['ID', 'Name'], # 유지할 열의 이름\n",
    "                    value_vars=['Eng', 'Math', 'Science'],  # 변형할 열의 이름\n",
    "                    var_name='Subject', # value_vars가 이동할 열의 이름\n",
    "                    value_name='Score') # value_vars가 이동하는 값의 열 이름\n",
    "display(melted_df)\n",
    "\n"
   ]
  },
  {
   "cell_type": "markdown",
   "id": "e881062d9505282c",
   "metadata": {},
   "source": [
    "#### Stack과 Unstack\n",
    "- 판다스에서 다중 인덱스를 가지는 데이터프레임을 재구성하는데 사용하는 메서드들\n",
    "- 데이터프레임의 인덱스와 컬럼을 재배치하여 다른 형태로 변환할 수 있다\n",
    "\n",
    "##### Stack\n",
    "- 데이터프레임의 컬럼들을 인덱스 레벨로 이동시기는 기능 수행\n",
    "    - 열 데이터를 행 데이터로 변환하는 작업\n",
    "    - 기본적으로 가장 안쪽(가장 낮은 레벨)의 컬럼들을 인덱스 레벨로 이동\n"
   ]
  },
  {
   "cell_type": "code",
   "execution_count": null,
   "id": "c7dde8749421bd03",
   "metadata": {
    "ExecuteTime": {
     "end_time": "2023-08-02T08:15:41.319572900Z",
     "start_time": "2023-08-02T08:15:41.285552800Z"
    }
   },
   "outputs": [],
   "source": [
    "from IPython.display import display\n",
    "import pandas as pd\n",
    "\n",
    "df = melted_df.copy()\n",
    "del df['ID']\n",
    "df.set_index(['Name', 'Subject'])\n",
    "stacked_df = df.stack()\n",
    "stacked_df\n",
    "\n",
    "\n"
   ]
  },
  {
   "cell_type": "markdown",
   "id": "ebe8e00be601e528",
   "metadata": {},
   "source": [
    "##### unstack\n",
    "- unstack : stack의 반대 작업 수행\n",
    "    - 다중 인덱스를 가진 데이터프레임에서 특정 레벨의 인덱스를 컬럼으로 이동\n",
    "    - 기본적으로 가장 낮은 레벨의 인덱스를 컬럼으로 이동"
   ]
  },
  {
   "cell_type": "code",
   "execution_count": null,
   "id": "de612372566c4925",
   "metadata": {
    "ExecuteTime": {
     "end_time": "2023-08-02T08:17:20.517706200Z",
     "start_time": "2023-08-02T08:17:20.492571100Z"
    }
   },
   "outputs": [],
   "source": [
    "display(stacked_df)\n",
    "\n",
    "unstacked_df = stacked_df.unstack()\n",
    "display(unstacked_df)"
   ]
  },
  {
   "cell_type": "code",
   "execution_count": null,
   "id": "cc061152baee15cb",
   "metadata": {},
   "outputs": [],
   "source": []
  }
 ],
 "metadata": {
  "kernelspec": {
   "display_name": "Python 3 (ipykernel)",
   "language": "python",
   "name": "python3"
  },
  "language_info": {
   "codemirror_mode": {
    "name": "ipython",
    "version": 3
   },
   "file_extension": ".py",
   "mimetype": "text/x-python",
   "name": "python",
   "nbconvert_exporter": "python",
   "pygments_lexer": "ipython3",
   "version": "3.10.9"
  }
 },
 "nbformat": 4,
 "nbformat_minor": 5
}
