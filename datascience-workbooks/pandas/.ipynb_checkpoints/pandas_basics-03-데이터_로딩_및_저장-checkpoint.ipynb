{
 "cells": [
  {
   "cell_type": "markdown",
   "id": "d4789bef26914ea7",
   "metadata": {},
   "source": [
    "# Pandas\n",
    "-----\n",
    "## 03. 데이터 로딩 및 저장\n",
    "\n",
    "### CSV 파일\n",
    "- CSV (Comma Separated Values)\n",
    "    - 데이터를 쉼표(,)로 구분하여 저장하는 간단한 텍스트 파일 형식\n",
    "    - 각 줄은 데이터 레코드를 나타내며, 각 열은 해당 레코드의 속성을 의미\n",
    "    - 첫 번째 줄은 열 이름(헤더)으로 사용됩니다.\n",
    "    - 데이터 교환과 공유를 위해 널리 사용되며 스프레드시트 프로그램에서도 지원\n",
    "\n",
    "\n",
    "### CSV 파일 다루기\n",
    "- CSV 파일 불러오기 : read_csv"
   ]
  },
  {
   "cell_type": "code",
   "execution_count": null,
   "id": "1f87fd974552e699",
   "metadata": {
    "ExecuteTime": {
     "end_time": "2023-08-01T07:33:17.467156400Z",
     "start_time": "2023-08-01T07:33:17.453128300Z"
    }
   },
   "outputs": [],
   "source": [
    "import pandas as pd\n",
    "\n",
    "# CSV 파일을 읽어와서 DataFrame 객체로 만들기\n",
    "# thieves_df = pd.read_csv(\"../data/thieves.txt\")\n",
    "# thieves_df = pd.read_csv(\"../data/thieves.txt\", sep=\"\\t\")\n",
    "# thieves_df = pd.read_csv(\"../data/thieves.txt\", sep=\"\\t\", header=None)\n",
    "thieves_df = pd.read_csv(\"../data/thieves.txt\", sep=\"\\t\", header=None, index_col=0)\n",
    "\n",
    "# 데이터 프레임의 컬럼 명을 바꿔봅니다.\n",
    "thieves_df.columns  = [\"Height\", \"Weight\"]\n",
    "# 데이터프레임 인덱스의 이름을 바꿔 봅니다.\n",
    "thieves_df.index.name = \"Name\"\n",
    "\n",
    "print(thieves_df)"
   ]
  },
  {
   "cell_type": "markdown",
   "id": "c10fb71ebf11fc37",
   "metadata": {},
   "source": [
    "- CSV 파일로 저장하기 : to_csv"
   ]
  },
  {
   "cell_type": "code",
   "execution_count": null,
   "id": "2402be12b407d34a",
   "metadata": {
    "ExecuteTime": {
     "end_time": "2023-08-01T07:35:31.431777200Z",
     "start_time": "2023-08-01T07:35:31.409118500Z"
    }
   },
   "outputs": [],
   "source": [
    "import pandas as pd\n",
    "import os\n",
    "if not os.path.exists(\"../generated\"):\n",
    "    os.makedirs(\"../generated\")\n",
    "thieves_df.to_csv(\"../generated/thieves.csv\", encoding=\"utf-8\")"
   ]
  },
  {
   "cell_type": "markdown",
   "id": "25dd7d8780f415f9",
   "metadata": {},
   "source": [
    "### Excel 파일\n",
    "- Excel 파일 다루기\n",
    "    - Excel 파일 불러오기 : read_excel\n",
    "    - Excel 파일로 저장하기 : to_excel"
   ]
  },
  {
   "cell_type": "code",
   "execution_count": null,
   "id": "98b04b965b627fe6",
   "metadata": {
    "ExecuteTime": {
     "end_time": "2023-08-01T07:39:22.175922500Z",
     "start_time": "2023-08-01T07:39:22.112333100Z"
    }
   },
   "outputs": [],
   "source": [
    "import pandas as pd\n",
    "\n",
    "# Excel 파일을 읽어와서 DataFrame 객체로 만들기\n",
    "xl_df = pd.read_excel(\"../data/mtcars.xlsx\")\n",
    "xl_df"
   ]
  },
  {
   "cell_type": "code",
   "execution_count": null,
   "id": "126bd56f44a1312b",
   "metadata": {
    "ExecuteTime": {
     "end_time": "2023-08-01T07:41:16.440952700Z",
     "start_time": "2023-08-01T07:41:16.388114400Z"
    }
   },
   "outputs": [],
   "source": [
    "import os\n",
    "\n",
    "if not os.path.exists(\"../generated\"):\n",
    "    os.makedirs(\"../generated\")\n",
    "\n",
    "xl_df.to_excel(\"../generated/mtcars2.xlsx\", sheet_name=\"엑셀 저장 테스트\")"
   ]
  },
  {
   "cell_type": "markdown",
   "id": "854ee4538d3d630e",
   "metadata": {},
   "source": [
    "### 데이터베이스 다루기\n",
    "- 데이터베이스에 데이터프레임 저장하기 : to_sql"
   ]
  },
  {
   "cell_type": "code",
   "execution_count": null,
   "id": "e61d10c9cd66e07b",
   "metadata": {
    "ExecuteTime": {
     "end_time": "2023-08-01T07:50:24.770851Z",
     "start_time": "2023-08-01T07:50:24.728415900Z"
    }
   },
   "outputs": [],
   "source": [
    "import pandas as pd\n",
    "import sqlite3\n",
    "import os\n",
    "\n",
    "mtcars = pd.read_excel(\"../data/mtcars.xlsx\")\n",
    "\n",
    "dbdir = \"../database\"\n",
    "\n",
    "if not os.path.exists(dbdir):\n",
    "    os.makedirs(dbdir)\n",
    "    \n",
    "# sqlite 데이터베이스 파일 생성 또는 연결\n",
    "conn = sqlite3.connect(\"../database/example.db\")\n",
    "\n",
    "# 데이터프레임을 SQLite 데이터베이스의 테이블로 저장하기\n",
    "mtcars.to_sql(\"mtcars\", conn, if_exists=\"replace\")\n",
    "\n",
    "# SQLite 데이터베이스 접속 종료\n",
    "conn.close()\n"
   ]
  },
  {
   "cell_type": "markdown",
   "id": "7f0771e3b23b35eb",
   "metadata": {},
   "source": [
    "- 데이터베이스에서 데이터프레임 읽어오기 : read_sql"
   ]
  },
  {
   "cell_type": "code",
   "execution_count": null,
   "id": "4100ffbe08a2c2c4",
   "metadata": {
    "ExecuteTime": {
     "end_time": "2023-08-01T08:13:53.157513100Z",
     "start_time": "2023-08-01T08:13:53.072469700Z"
    }
   },
   "outputs": [],
   "source": [
    "import pandas as pd\n",
    "import sqlite3\n",
    "\n",
    "# 데이터베이스에 접속\n",
    "conn = sqlite3.connect(\"../database/example.db\")\n",
    "\n",
    "# SQL 쿼리 결과를 데이터프레임으로 설정\n",
    "query = \"SELECT * FROM mtcars\"\n",
    "dataframe = pd.read_sql(query, conn)\n",
    "\n",
    "dataframe"
   ]
  },
  {
   "cell_type": "code",
   "execution_count": null,
   "id": "7b9e644fe895df9c",
   "metadata": {},
   "outputs": [],
   "source": []
  }
 ],
 "metadata": {
  "kernelspec": {
   "display_name": "Python 3 (ipykernel)",
   "language": "python",
   "name": "python3"
  },
  "language_info": {
   "codemirror_mode": {
    "name": "ipython",
    "version": 3
   },
   "file_extension": ".py",
   "mimetype": "text/x-python",
   "name": "python",
   "nbconvert_exporter": "python",
   "pygments_lexer": "ipython3",
   "version": "3.10.9"
  }
 },
 "nbformat": 4,
 "nbformat_minor": 5
}
